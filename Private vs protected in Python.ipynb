{
 "cells": [
  {
   "cell_type": "markdown",
   "metadata": {},
   "source": [
    "Here we see the functional difference when methods are named using a double underscore (\"dunder name\") vs a single underscore.\n",
    "\n",
    "In Python, a method name may begin with one or two underscores.\n",
    "\n",
    "Names that begin with one underscore are to be treated as 'protected' or semi-private. There's nothing sto actually stop us from calling these methods, its just a naming convention.\n",
    "\n",
    "Using a double-underscore, however, causes the name of the class to be **mangled** internally by Python. This has the effect of creating a fully private method. One potentially unexpected side-effect of such names is that they cannot be easily overridden by subclasses."
   ]
  },
  {
   "cell_type": "code",
   "execution_count": 1,
   "metadata": {},
   "outputs": [],
   "source": [
    "class UnderBallOfWire(object):\n",
    "    def __init__(self):\n",
    "        self.wire_quantity = self._get_wire_quantity()\n",
    "              \n",
    "    def _get_wire_quantity(self):\n",
    "        return 4\n",
    "        \n",
    "    def tell_wire(self):\n",
    "        print(\"I have \" + str(self.wire_quantity) + \" wires!\")\n",
    "\n",
    "class UnderBigBallOfWire(UnderBallOfWire):\n",
    "    def _get_wire_quantity(self):\n",
    "        return 8"
   ]
  },
  {
   "cell_type": "code",
   "execution_count": 2,
   "metadata": {},
   "outputs": [
    {
     "name": "stdout",
     "output_type": "stream",
     "text": [
      "I have 4 wires!\n"
     ]
    }
   ],
   "source": [
    "wire_ball = UnderBallOfWire()\n",
    "wire_ball.tell_wire()"
   ]
  },
  {
   "cell_type": "code",
   "execution_count": 3,
   "metadata": {},
   "outputs": [
    {
     "name": "stdout",
     "output_type": "stream",
     "text": [
      "I have 8 wires!\n"
     ]
    }
   ],
   "source": [
    "big_wire_ball = UnderBigBallOfWire()\n",
    "big_wire_ball.tell_wire()"
   ]
  },
  {
   "cell_type": "markdown",
   "metadata": {},
   "source": [
    "I can also call the _get_wire_quantity method directly if I want!"
   ]
  },
  {
   "cell_type": "code",
   "execution_count": 4,
   "metadata": {},
   "outputs": [
    {
     "data": {
      "text/plain": [
       "8"
      ]
     },
     "execution_count": 4,
     "metadata": {},
     "output_type": "execute_result"
    }
   ],
   "source": [
    "big_wire_ball._get_wire_quantity()"
   ]
  },
  {
   "cell_type": "markdown",
   "metadata": {},
   "source": [
    "Now we make the same classes, but the method we want to override is named with a double underscore."
   ]
  },
  {
   "cell_type": "code",
   "execution_count": 5,
   "metadata": {},
   "outputs": [],
   "source": [
    "class DunderBallOfWire(object):\n",
    "    def __init__(self):\n",
    "        self.wire_quantity = self.__get_wire_quantity()\n",
    "              \n",
    "    def __get_wire_quantity(self):\n",
    "        return 4\n",
    "        \n",
    "    def tell_wire(self):\n",
    "        print(\"I have \" + str(self.wire_quantity) + \" wires!\")\n",
    "\n",
    "class DunderBigBallOfWire(DunderBallOfWire):\n",
    "    def __get_wire_quantity(self):\n",
    "        return 8"
   ]
  },
  {
   "cell_type": "code",
   "execution_count": 6,
   "metadata": {},
   "outputs": [
    {
     "name": "stdout",
     "output_type": "stream",
     "text": [
      "I have 4 wires!\n"
     ]
    }
   ],
   "source": [
    "second_wire_ball = DunderBallOfWire()\n",
    "second_wire_ball.tell_wire()"
   ]
  },
  {
   "cell_type": "code",
   "execution_count": 7,
   "metadata": {},
   "outputs": [
    {
     "name": "stdout",
     "output_type": "stream",
     "text": [
      "I have 4 wires!\n"
     ]
    }
   ],
   "source": [
    "second_big_wire_ball = DunderBigBallOfWire()\n",
    "second_big_wire_ball.tell_wire()"
   ]
  },
  {
   "cell_type": "markdown",
   "metadata": {},
   "source": [
    "Surprise! The __get_wire_quantity method from the superclass has been used, even though we thought we had overridden it!\n",
    "\n",
    "This time, it is an error to try and call the __get_wire_quantity (double-underscore) method."
   ]
  },
  {
   "cell_type": "code",
   "execution_count": 8,
   "metadata": {},
   "outputs": [
    {
     "ename": "AttributeError",
     "evalue": "'DunderBigBallOfWire' object has no attribute '__get_wire_quantity'",
     "output_type": "error",
     "traceback": [
      "\u001b[1;31m---------------------------------------------------------------------------\u001b[0m",
      "\u001b[1;31mAttributeError\u001b[0m                            Traceback (most recent call last)",
      "\u001b[1;32m<ipython-input-8-5a42d16ce0aa>\u001b[0m in \u001b[0;36m<module>\u001b[1;34m()\u001b[0m\n\u001b[1;32m----> 1\u001b[1;33m \u001b[0msecond_big_wire_ball\u001b[0m\u001b[1;33m.\u001b[0m\u001b[0m__get_wire_quantity\u001b[0m\u001b[1;33m(\u001b[0m\u001b[1;33m)\u001b[0m\u001b[1;33m\u001b[0m\u001b[0m\n\u001b[0m",
      "\u001b[1;31mAttributeError\u001b[0m: 'DunderBigBallOfWire' object has no attribute '__get_wire_quantity'"
     ]
    }
   ],
   "source": [
    "second_big_wire_ball.__get_wire_quantity()"
   ]
  },
  {
   "cell_type": "markdown",
   "metadata": {},
   "source": [
    "That's because the use of the double-underscore causes the name to be **mangled**. If we know how the name has been mangled (by prepending an underscore followed by the class name) we can still get at it, but we shouldn't do this."
   ]
  },
  {
   "cell_type": "code",
   "execution_count": 9,
   "metadata": {},
   "outputs": [
    {
     "data": {
      "text/plain": [
       "8"
      ]
     },
     "execution_count": 9,
     "metadata": {},
     "output_type": "execute_result"
    }
   ],
   "source": [
    "second_big_wire_ball._DunderBigBallOfWire__get_wire_quantity()"
   ]
  }
 ],
 "metadata": {
  "kernelspec": {
   "display_name": "Python 3",
   "language": "python",
   "name": "python3"
  },
  "language_info": {
   "codemirror_mode": {
    "name": "ipython",
    "version": 3
   },
   "file_extension": ".py",
   "mimetype": "text/x-python",
   "name": "python",
   "nbconvert_exporter": "python",
   "pygments_lexer": "ipython3",
   "version": "3.5.1"
  }
 },
 "nbformat": 4,
 "nbformat_minor": 2
}
