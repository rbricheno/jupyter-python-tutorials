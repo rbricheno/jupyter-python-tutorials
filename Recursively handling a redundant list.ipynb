{
 "cells": [
  {
   "cell_type": "markdown",
   "metadata": {},
   "source": [
    "<h1>Recursively handling a redundant list of tasks/objects/servers</h1>"
   ]
  },
  {
   "cell_type": "markdown",
   "metadata": {},
   "source": [
    "Here's a real world example of a task you may want to do recursively using Python exceptions. We'll use the concept of a \"redundant\" list of objects, where any one of the objects could potentially do the work we want, but some of the objects can't service the request at all at runtime so we need to try the next one, and the next, until we find one that works.\n",
    "\n",
    "Often, for example, we have a list of servers which may answer our request, but some of the servers may not be working. We want to try each server in turn and only throw an error if none of the servers respond.\n",
    "\n",
    "We'll start by making a fake server class to stand in for an internet server in this demo. The server is declared as always failing (and throwing an exception) or always working. We also define a couple of custom exceptions, one for when a server fails, and one to use later, if all servers fail."
   ]
  },
  {
   "cell_type": "code",
   "execution_count": 1,
   "metadata": {},
   "outputs": [],
   "source": [
    "class ServerException(Exception):\n",
    "    pass\n",
    "\n",
    "class AllRedundantFailedException(Exception):\n",
    "    pass\n",
    "\n",
    "class Server():\n",
    "    def __init__(self, name: str, excepts: bool):\n",
    "        self.name = name\n",
    "        self.excepts = excepts\n",
    "    \n",
    "    def work(self):\n",
    "        print(self.name + \" is trying to do some work...\")\n",
    "        if self.excepts:\n",
    "            raise ServerException()\n",
    "        else:\n",
    "            print(\"Good server!\")"
   ]
  },
  {
   "cell_type": "markdown",
   "metadata": {},
   "source": [
    "We'll make a couple of good servers and a couple of bad ones for demo purposes."
   ]
  },
  {
   "cell_type": "code",
   "execution_count": 2,
   "metadata": {},
   "outputs": [],
   "source": [
    "bad_server = Server(\"Tom\", True)\n",
    "naughty_server = Server(\"Dick\", True)\n",
    "good_server = Server(\"Harry\", False)\n",
    "unused_server = Server(\"Norman\", False)"
   ]
  },
  {
   "cell_type": "markdown",
   "metadata": {},
   "source": [
    "The servers work (or don't work!) as designed."
   ]
  },
  {
   "cell_type": "code",
   "execution_count": 3,
   "metadata": {},
   "outputs": [
    {
     "name": "stdout",
     "output_type": "stream",
     "text": [
      "Tom is trying to do some work...\n",
      "Tom failed.\n",
      "Dick is trying to do some work...\n",
      "Dick failed.\n",
      "Harry is trying to do some work...\n",
      "Good server!\n",
      "Norman is trying to do some work...\n",
      "Good server!\n"
     ]
    }
   ],
   "source": [
    "try:\n",
    "    bad_server.work()\n",
    "except ServerException:\n",
    "    print(\"Tom failed.\")\n",
    "    \n",
    "try:\n",
    "    naughty_server.work()\n",
    "except ServerException:\n",
    "    print(\"Dick failed.\")\n",
    "    \n",
    "good_server.work()\n",
    "unused_server.work()"
   ]
  },
  {
   "cell_type": "markdown",
   "metadata": {},
   "source": [
    "We could write the redundancy like this, using nested try/except, which is horribly ugly and requires a new clause (and a new level of nesting) for every server we add. Don't do this, this is what we will avoid by using recursion."
   ]
  },
  {
   "cell_type": "code",
   "execution_count": 4,
   "metadata": {},
   "outputs": [
    {
     "name": "stdout",
     "output_type": "stream",
     "text": [
      "Tom is trying to do some work...\n",
      "Dick is trying to do some work...\n",
      "Harry is trying to do some work...\n",
      "Good server!\n"
     ]
    }
   ],
   "source": [
    "try:\n",
    "    bad_server.work()\n",
    "except ServerException:\n",
    "    try:\n",
    "        naughty_server.work()\n",
    "    except ServerException:\n",
    "        try:\n",
    "            good_server.work()\n",
    "        except ServerException:\n",
    "            try:\n",
    "                unused_server.work()\n",
    "            except ServerException:\n",
    "                raise AllRedundantFailedException()\n",
    "    \n"
   ]
  },
  {
   "cell_type": "markdown",
   "metadata": {},
   "source": [
    "Here's the much nicer recursive solution. The 'work' method calls itself, with a smaller list of servers each time, until the list is empty, at which point an exception is raised (because no server worked). The 'work' method exits the first time we find a working server."
   ]
  },
  {
   "cell_type": "code",
   "execution_count": 5,
   "metadata": {},
   "outputs": [
    {
     "name": "stdout",
     "output_type": "stream",
     "text": [
      "Tom is trying to do some work...\n",
      "Dick is trying to do some work...\n",
      "Harry is trying to do some work...\n",
      "Good server!\n"
     ]
    }
   ],
   "source": [
    "all_servers = [bad_server, naughty_server, good_server, unused_server]\n",
    "only_bad_servers = [bad_server, naughty_server]\n",
    "\n",
    "def work(server_list: list):\n",
    "    if not server_list:\n",
    "        raise AllRedundantFailedException()\n",
    "    server = server_list[0]\n",
    "    new_server_list = server_list[1:]\n",
    "    try:\n",
    "        server.work()\n",
    "    except:\n",
    "        work(new_server_list)\n",
    "\n",
    "try:\n",
    "    work(all_servers)\n",
    "except AllRedundantFailedException:\n",
    "    print(\"Error: no working server could be found!\")"
   ]
  },
  {
   "cell_type": "markdown",
   "metadata": {},
   "source": [
    "If all the servers are bad (i.e. the list becomes empty before a good server is found) an exception is raised:"
   ]
  },
  {
   "cell_type": "code",
   "execution_count": 6,
   "metadata": {},
   "outputs": [
    {
     "name": "stdout",
     "output_type": "stream",
     "text": [
      "Tom is trying to do some work...\n",
      "Dick is trying to do some work...\n",
      "Error: no working server could be found!\n"
     ]
    }
   ],
   "source": [
    "try:\n",
    "    work(only_bad_servers)\n",
    "except AllRedundantFailedException:\n",
    "    print(\"Error: no working server could be found!\")"
   ]
  }
 ],
 "metadata": {
  "kernelspec": {
   "display_name": "Python 3",
   "language": "python",
   "name": "python3"
  },
  "language_info": {
   "codemirror_mode": {
    "name": "ipython",
    "version": 3
   },
   "file_extension": ".py",
   "mimetype": "text/x-python",
   "name": "python",
   "nbconvert_exporter": "python",
   "pygments_lexer": "ipython3",
   "version": "3.5.1"
  }
 },
 "nbformat": 4,
 "nbformat_minor": 2
}
